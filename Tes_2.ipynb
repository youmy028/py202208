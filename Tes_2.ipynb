{
 "cells": [
  {
   "cell_type": "code",
   "execution_count": 1,
   "metadata": {},
   "outputs": [
    {
     "name": "stdout",
     "output_type": "stream",
     "text": [
      "c:\\ho_22\n"
     ]
    }
   ],
   "source": [
    "# import 모듈이름\n",
    "# from 모듈이름 import 원하는 함수 이름\n",
    "import os\n",
    "print(os.getcwd())"
   ]
  },
  {
   "cell_type": "code",
   "execution_count": 2,
   "metadata": {},
   "outputs": [],
   "source": [
    "import os\n",
    "os.chdir(\"C:\\ho_22\\p0_0y\")"
   ]
  },
  {
   "cell_type": "code",
   "execution_count": 3,
   "metadata": {},
   "outputs": [
    {
     "name": "stdout",
     "output_type": "stream",
     "text": [
      "C:\\ho_22\\p0_0y\n"
     ]
    }
   ],
   "source": [
    "print(os.getcwd())"
   ]
  },
  {
   "cell_type": "code",
   "execution_count": 4,
   "metadata": {},
   "outputs": [],
   "source": [
    "os.chdir(\"c:\\ho_22\")"
   ]
  },
  {
   "cell_type": "code",
   "execution_count": 5,
   "metadata": {},
   "outputs": [
    {
     "name": "stdout",
     "output_type": "stream",
     "text": [
      "c:\\ho_22\n"
     ]
    }
   ],
   "source": [
    "print(os.getcwd())"
   ]
  },
  {
   "cell_type": "code",
   "execution_count": 10,
   "metadata": {},
   "outputs": [
    {
     "name": "stdout",
     "output_type": "stream",
     "text": [
      "p0_0y\n",
      "Test_1.ipynb\n",
      "Tes_2.ipynb\n"
     ]
    }
   ],
   "source": [
    "# 입력한 경로의 파일과 폴더 목록을 리스트로 반환하는 함수\n",
    "a = os.listdir(\"c:\\ho_22\")\n",
    "for i in a:\n",
    "    print(i)"
   ]
  },
  {
   "cell_type": "code",
   "execution_count": 11,
   "metadata": {},
   "outputs": [
    {
     "name": "stdout",
     "output_type": "stream",
     "text": [
      "True\n",
      "False\n"
     ]
    }
   ],
   "source": [
    "print(os.path.exists(\"C:\\ho_22\\Test_1.ipynb\"))\n",
    "print(os.path.exists(\"C:\\ho_22\\Test_2.ipynb\"))"
   ]
  },
  {
   "cell_type": "code",
   "execution_count": 12,
   "metadata": {},
   "outputs": [],
   "source": [
    "# mkdir, makedirs 모두 폴더(디렉토리)를 만드는 함수입니다.\n",
    "# mkdir() 경로의 제일 마지막에 적힌 하나의 폴더만을 생성\n",
    "# makedir() 시작부터 끝까지의 경로안에 있는 폴더 생성(하위폴더까지 포함)\n",
    "os.mkdir(\"C:\\ho_22\\Test_2.ipynb\")"
   ]
  },
  {
   "cell_type": "code",
   "execution_count": 13,
   "metadata": {},
   "outputs": [
    {
     "name": "stdout",
     "output_type": "stream",
     "text": [
      "True\n"
     ]
    }
   ],
   "source": [
    "print(os.path.exists(\"C:\\ho_22\\Test_2.ipynb\"))"
   ]
  },
  {
   "cell_type": "code",
   "execution_count": 14,
   "metadata": {},
   "outputs": [],
   "source": [
    "os.rmdir(\"C:\\ho_22\\Test_2.ipynb\")"
   ]
  },
  {
   "cell_type": "code",
   "execution_count": 15,
   "metadata": {},
   "outputs": [
    {
     "name": "stdout",
     "output_type": "stream",
     "text": [
      "False\n"
     ]
    }
   ],
   "source": [
    "print(os.path.exists(\"C:\\ho_22\\Test_2.ipynb\"))"
   ]
  },
  {
   "cell_type": "code",
   "execution_count": null,
   "metadata": {},
   "outputs": [],
   "source": [
    "# rmdir()함수 , removedirs()함수 모두 폴더를 삭제하는 명령어 다만 두 명령어 모두 삭제할 폴더가 비어있어야 한다.\n",
    "# 아래 코드에서 C:\\py_test08\\py_test3 폴더를 삭제하는데 rmdir 함수를 사용하면 py_test3 폴더를 삭제\n",
    "# 이때, py_test08은 삭제가 안됨 그래서 한번더 rmdit('C:\\py_test08')해줘야함\n",
    "# 그러나 removedirs()함수를 사용할 경우 모든 경로의 폴더를 한번 삭제 할 수 있음 다만, 비어야 함"
   ]
  },
  {
   "cell_type": "code",
   "execution_count": 25,
   "metadata": {},
   "outputs": [],
   "source": [
    "file = open(\"text.txt\",\"w\")\n",
    "file.write(\"Nope\")\n",
    "file.close()"
   ]
  },
  {
   "cell_type": "code",
   "execution_count": 39,
   "metadata": {},
   "outputs": [],
   "source": [
    "file = open(\"text2.txt\",\"r\",encoding=\"UTF-8\")\n"
   ]
  },
  {
   "cell_type": "code",
   "execution_count": 41,
   "metadata": {},
   "outputs": [
    {
     "ename": "TypeError",
     "evalue": "mkdir: path should be string, bytes or os.PathLike, not NoneType",
     "output_type": "error",
     "traceback": [
      "\u001b[1;31m---------------------------------------------------------------------------\u001b[0m",
      "\u001b[1;31mTypeError\u001b[0m                                 Traceback (most recent call last)",
      "\u001b[1;32mc:\\ho_22\\Tes_2.ipynb 셀 15\u001b[0m in \u001b[0;36m<cell line: 1>\u001b[1;34m()\u001b[0m\n\u001b[0;32m      <a href='vscode-notebook-cell:/c%3A/ho_22/Tes_2.ipynb#X21sZmlsZQ%3D%3D?line=0'>1</a>\u001b[0m \u001b[39mfor\u001b[39;00m i \u001b[39min\u001b[39;00m \u001b[39mrange\u001b[39m(\u001b[39m1\u001b[39m,\u001b[39m6\u001b[39m,\u001b[39m1\u001b[39m):\n\u001b[1;32m----> <a href='vscode-notebook-cell:/c%3A/ho_22/Tes_2.ipynb#X21sZmlsZQ%3D%3D?line=1'>2</a>\u001b[0m     os\u001b[39m.\u001b[39;49mmkdir(os\u001b[39m.\u001b[39;49mmkdir(\u001b[39m\"\u001b[39;49m\u001b[39mC:\u001b[39;49m\u001b[39m\\\u001b[39;49m\u001b[39mho_22\u001b[39;49m\u001b[39m\\\u001b[39;49m\u001b[39mHo_\u001b[39;49m\u001b[39m{}\u001b[39;49;00m\u001b[39m.ipynb\u001b[39;49m\u001b[39m\"\u001b[39;49m\u001b[39m.\u001b[39;49mformat(i)))\n",
      "\u001b[1;31mTypeError\u001b[0m: mkdir: path should be string, bytes or os.PathLike, not NoneType"
     ]
    }
   ],
   "source": [
    "for i in range(1,6,1):\n",
    "    os.mkdir(os.mkdir(\"C:\\ho_22\\Ho_{}.ipynb\".format(i)))"
   ]
  },
  {
   "cell_type": "code",
   "execution_count": 48,
   "metadata": {},
   "outputs": [],
   "source": [
    "f1 = open(\"text6.txt\",\"wt\",encoding= \"utf-8\")\n",
    "f1.write(\"1.홈런볼\\n\")\n",
    "f1.write(\"2.맛동산\\n\")\n",
    "f1.write(\"3.에이스\\n\")\n",
    "f1.write(\"4.오감자\\n\")\n",
    "f1.write(\"5.꼬칼콘\\n\")\n",
    "f1.close()"
   ]
  },
  {
   "cell_type": "code",
   "execution_count": 44,
   "metadata": {},
   "outputs": [],
   "source": [
    "for i in range(1,6):\n",
    "    filename =\"text\"+str(i)+\".txt\"\n",
    "    open(filename, \"w\")"
   ]
  },
  {
   "cell_type": "code",
   "execution_count": 52,
   "metadata": {},
   "outputs": [
    {
     "name": "stdout",
     "output_type": "stream",
     "text": [
      "1.홈런볼\n",
      "\n",
      "2.맛동산\n",
      "\n",
      "3.에이스\n",
      "\n",
      "4.오감자\n",
      "\n",
      "5.꼬칼콘\n",
      "\n"
     ]
    }
   ],
   "source": [
    "f1 = open(\"text6.txt\",\"r\",encoding=\"utf-8\")\n",
    "snack = f1.readlines()\n",
    "for i in snack:\n",
    "    print(i)"
   ]
  },
  {
   "cell_type": "code",
   "execution_count": 47,
   "metadata": {},
   "outputs": [],
   "source": [
    "# read() 파일내용 전체를 읽고, 파일 전체 내용을 문자열로 반환.\n",
    "# readlines() 파일내용 전체를 읽고, 각 줄이 문자열 형태로 리스트 요소가 되어 반환된다.\n",
    "# readline() 파일의 한줄을 가져와 문자열로 반환. 파일의 포인터는 그 다음줄로 이동"
   ]
  },
  {
   "cell_type": "code",
   "execution_count": 11,
   "metadata": {},
   "outputs": [],
   "source": [
    "list1= [\"사과\",\"배\",\"딸기\",\"수박\"]\n",
    "\n",
    "f1 = open(\"text3.txt\",\"wt\",encoding=\"utf-8\")\n",
    "for i in list1:\n",
    "    f1.write(i+\"\\n\")\n",
    "f1.close()"
   ]
  },
  {
   "cell_type": "code",
   "execution_count": 10,
   "metadata": {},
   "outputs": [
    {
     "name": "stdout",
     "output_type": "stream",
     "text": [
      "사과\n",
      "\n",
      "배\n",
      "\n",
      "딸기\n",
      "\n",
      "수박\n",
      "\n"
     ]
    }
   ],
   "source": [
    "f1 = open(\"text3.txt\",\"r\",encoding=\"utf-8\")\n",
    "print(f1.readline())\n",
    "print(f1.readline())\n",
    "print(f1.readline())\n",
    "print(f1.readline())\n",
    "f1.close()"
   ]
  },
  {
   "cell_type": "code",
   "execution_count": 13,
   "metadata": {},
   "outputs": [
    {
     "name": "stdout",
     "output_type": "stream",
     "text": [
      "버림하기 전의 값 :1.6666666666666667\n",
      "버림하고 난 후의 값:1\n"
     ]
    }
   ],
   "source": [
    "import math\n",
    "# trunc\n",
    "n1 = 3\n",
    "n2 = 5\n",
    "print(\"버림하기 전의 값 :{}\".format(n2/n1))\n",
    "print(\"버림하고 난 후의 값:{}\".format(math.trunc(n2/n1)))"
   ]
  },
  {
   "cell_type": "code",
   "execution_count": 14,
   "metadata": {},
   "outputs": [
    {
     "name": "stdout",
     "output_type": "stream",
     "text": [
      "총 4페이지까지 데이터를 수집하세요\n"
     ]
    }
   ],
   "source": [
    "# ceil() 주어진 숫자보다 큰 가장 가까운 정수\n",
    "cnt = int(input(\"총 몇건의 데이터를 수집할까요? :\"))\n",
    "# 18건의 데이터를 수집받았다고 한다.\n",
    "# 한페이지에 10건의 데이터씩 보여준다.\n",
    "# 이때, 내가 확인해야 할 페이지 수는?\n",
    "pagecnt = math.ceil(cnt/10)\n",
    "print(\"총 {}페이지까지 데이터를 수집하세요.\".format(pagecnt))"
   ]
  },
  {
   "cell_type": "code",
   "execution_count": 15,
   "metadata": {},
   "outputs": [
    {
     "name": "stdout",
     "output_type": "stream",
     "text": [
      "1.66보다 작으면서 가장 가까운 정수는 1 입니다.\n"
     ]
    }
   ],
   "source": [
    "# floor() 주어진 숫자보ㅓ다 작고 가장 가까운 정수를 찾아 주는 함수\n",
    "n1 = 1.66\n",
    "print(\"{}보다 작으면서 가장 가까운 정수는 {} 입니다.\".format(n1,math.floor(n1)))"
   ]
  },
  {
   "cell_type": "code",
   "execution_count": null,
   "metadata": {},
   "outputs": [],
   "source": []
  }
 ],
 "metadata": {
  "kernelspec": {
   "display_name": "Python 3.10.6 64-bit",
   "language": "python",
   "name": "python3"
  },
  "language_info": {
   "codemirror_mode": {
    "name": "ipython",
    "version": 3
   },
   "file_extension": ".py",
   "mimetype": "text/x-python",
   "name": "python",
   "nbconvert_exporter": "python",
   "pygments_lexer": "ipython3",
   "version": "3.10.6"
  },
  "orig_nbformat": 4,
  "vscode": {
   "interpreter": {
    "hash": "3196968d684371006099b3d55edeef8ed90365227a30deaef86e5d4aa8519be0"
   }
  }
 },
 "nbformat": 4,
 "nbformat_minor": 2
}
